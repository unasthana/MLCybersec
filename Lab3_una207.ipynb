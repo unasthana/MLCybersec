{
  "nbformat": 4,
  "nbformat_minor": 0,
  "metadata": {
    "colab": {
      "provenance": [],
      "gpuType": "T4"
    },
    "kernelspec": {
      "name": "python3",
      "display_name": "Python 3"
    },
    "language_info": {
      "name": "python"
    },
    "accelerator": "GPU"
  },
  "cells": [
    {
      "cell_type": "markdown",
      "source": [
        "**Suppressing Warnings**\n",
        "\n",
        "In the following code cell, we begin by suppressing warnings using the `warnings` module. This is often done to improve the clarity of the output and to avoid unnecessary distractions. The `filterwarnings('ignore')` statement instructs the notebook to ignore warning messages that might be generated during the execution of the code. Warnings are important for debugging, but in certain situations, you may choose to suppress them, especially when you are confident that they won't affect the desired functionality."
      ],
      "metadata": {
        "id": "Ce9vkql2gpCO"
      }
    },
    {
      "cell_type": "code",
      "source": [
        "import warnings\n",
        "warnings.filterwarnings('ignore')"
      ],
      "metadata": {
        "id": "iqDnznTzcdle"
      },
      "execution_count": 1,
      "outputs": []
    },
    {
      "cell_type": "markdown",
      "source": [
        "**Necessary Imports and Libraries**\n",
        "\n",
        "In this cell, we import the essential libraries and modules required for the subsequent code. Each library serves a specific purpose in the overall functionality of the notebook. Here's a brief explanation of the imports:\n",
        "\n",
        "- **os**: Provides a way to interact with the operating system, useful for file and directory operations.\n",
        "- **tarfile**: Enables working with tar archives, often used for compressing files.\n",
        "- **requests**: Allows sending HTTP requests; useful for downloading data from the internet.\n",
        "- **re**: Provides support for regular expressions, helpful for text processing.\n",
        "- **sys**: Provides access to some variables used or maintained by the interpreter.\n",
        "- **h5py**: Facilitates working with HDF5 file format, commonly used for storing large numerical datasets.\n",
        "- **numpy (np)**: Essential for numerical operations and array manipulations.\n",
        "- **tensorflow (tf)**: An open-source machine learning framework.\n",
        "- **cv2**: OpenCV library for computer vision tasks.\n",
        "- **keras**: High-level neural networks API running on top of TensorFlow.\n",
        "- **matplotlib.pyplot (plt)**: Used for creating visualizations like plots and charts.\n",
        "- **mpl_toolkits.axes_grid1.inset_locator**: Allows the creation of inset axes for zoomed-in plots.\n",
        "- **matplotlib.font_manager**: Manages fonts for Matplotlib.\n",
        "\n",
        "These imports set up the foundational tools needed for the machine learning and image processing tasks that will follow in the notebook."
      ],
      "metadata": {
        "id": "Eddaqd9Bg7sD"
      }
    },
    {
      "cell_type": "code",
      "execution_count": 2,
      "metadata": {
        "id": "rN3Vwfc7TYF6"
      },
      "outputs": [],
      "source": [
        "# Necessary imports\n",
        "import os\n",
        "import tarfile\n",
        "import requests\n",
        "import re\n",
        "import sys\n",
        "import h5py\n",
        "import numpy as np\n",
        "import tensorflow as tf\n",
        "import cv2\n",
        "import zipfile\n",
        "\n",
        "from tensorflow import keras\n",
        "from keras import backend as K\n",
        "from keras.models import Model\n",
        "from google.colab import files\n",
        "import matplotlib.pyplot as plt\n",
        "from mpl_toolkits.axes_grid1.inset_locator import inset_axes\n",
        "import matplotlib.font_manager as font_manager"
      ]
    },
    {
      "cell_type": "markdown",
      "source": [
        "Data Loading Function\n",
        "\n",
        "The code cell defines a function `data_loader` designed to load data from an HDF5 file. This function takes the file path as an input parameter and returns the input data (`x_data`) and label data (`y_data`). Here's a breakdown of the function:\n",
        "\n",
        "- **Parameters:**\n",
        "  - `filepath`: A string representing the path to the HDF5 file.\n",
        "\n",
        "- **Returns:**\n",
        "  - `x_data`: A NumPy array containing the input data.\n",
        "  - `y_data`: A NumPy array containing the label data.\n",
        "\n",
        "- **Function Steps:**\n",
        "  1. **Opening File:** The HDF5 file is opened in read-only mode using the `h5py.File` method.\n",
        "  2. **Extracting Data:** Input data (`x_data`) and labels (`y_data`) are extracted from the HDF5 file.\n",
        "  3. **Transposing Data:** The input data is transposed to match the required dimensions.\n",
        "  4. **Closing File:** The HDF5 file is closed using the `close()` method.\n",
        "  5. **Return:** The loaded `x_data` and `y_data` are returned from the function.\n",
        "\n",
        "This function is crucial for efficiently loading data from HDF5 files, a common format for storing large datasets in machine learning applications."
      ],
      "metadata": {
        "id": "JjV0hup6-t--"
      }
    },
    {
      "cell_type": "code",
      "source": [
        "# Function to load data from an HDF5 file.\n",
        "\n",
        "def data_loader(filepath):\n",
        "    \"\"\"\n",
        "    Loads data from an HDF5 file.\n",
        "\n",
        "    Parameters:\n",
        "    - filepath: str, the path to the HDF5 file.\n",
        "\n",
        "    Returns:\n",
        "    - x_data: numpy.ndarray, input data array.\n",
        "    - y_data: numpy.ndarray, label data array.\n",
        "    \"\"\"\n",
        "\n",
        "    # Opening the HDF5 file in read-only mode.\n",
        "    data = h5py.File(filepath, 'r')\n",
        "\n",
        "    # Extracting input data and labels from the HDF5 file.\n",
        "    x_data = np.array(data['data'])\n",
        "    y_data = np.array(data['label'])\n",
        "\n",
        "    # Transposing the input data to match the required dimensions.\n",
        "    x_data = x_data.transpose((0, 2, 3, 1))\n",
        "\n",
        "    # Closing the HDF5 file.\n",
        "    data.close()\n",
        "\n",
        "    # Returning the loaded data.\n",
        "    return x_data, y_data\n"
      ],
      "metadata": {
        "id": "unsanh_Lch5r"
      },
      "execution_count": 3,
      "outputs": []
    },
    {
      "cell_type": "markdown",
      "source": [
        "**Filepaths and Directory Creation**\n",
        "\n",
        "In this section, we establish filepaths for the processed datasets and create directories to organize the data. The assigned filepaths are as follows:\n",
        "\n",
        "- **Clean Data:**\n",
        "  - Validation set: `clean_data_valid_filename = \"/content/data/cl/valid.h5\"`\n",
        "  - Test set: `clean_data_test_filename = \"/content/data/cl/test.h5\"`\n",
        "\n",
        "- **Poisoned Data:**\n",
        "  - Test set: `poisoned_data_test_filename = \"/content/data/bd/bd_test.h5\"`\n",
        "\n",
        "Additionally, directories are created to store these datasets. The process involves checking if each directory path exists, and if not, creating the directory. The created directories are:\n",
        "\n",
        "1. `/content/data/cl/`: Clean data directory.\n",
        "2. `/content/data/bd/`: Poisoned data directory.\n",
        "\n",
        "This organization ensures a structured storage approach for the datasets, making it easier to manage and access them during the course of the notebook. The creation of directories is accompanied by informative messages indicating whether each directory was successfully created or if it already exists."
      ],
      "metadata": {
        "id": "a8dJzjgW-6FH"
      }
    },
    {
      "cell_type": "code",
      "source": [
        "# Assigning filepaths for downloaded datasets after processing\n",
        "\n",
        "clean_data_valid_filename = \"/content/data/cl/valid.h5\"\n",
        "clean_data_test_filename = \"/content/data/cl/test.h5\"\n",
        "poisoned_data_test_filename = \"/content/data/bd/bd_test.h5\"\n",
        "\n",
        "# Creating directories to store the datasets\n",
        "\n",
        "# List of directory paths to be created\n",
        "directory_paths = ['/content/data/cl/', '/content/data/bd/']\n",
        "\n",
        "# Iterating through each directory path\n",
        "for path in directory_paths:\n",
        "\n",
        "    # Checking if the directory exists\n",
        "    if not os.path.exists(path):\n",
        "\n",
        "        # Creating the directory if it doesn't exist\n",
        "        os.makedirs(path)\n",
        "        print(f\"Directory '{path}' created successfully.\")\n",
        "\n",
        "    else:\n",
        "        # Displaying a message if the directory already exists\n",
        "        print(f\"Directory '{path}' already exists.\")\n"
      ],
      "metadata": {
        "colab": {
          "base_uri": "https://localhost:8080/"
        },
        "id": "BEwhAlcPc1VQ",
        "outputId": "f58c7896-c668-4e24-b93e-a04b46026309"
      },
      "execution_count": 4,
      "outputs": [
        {
          "output_type": "stream",
          "name": "stdout",
          "text": [
            "Directory '/content/data/cl/' already exists.\n",
            "Directory '/content/data/bd/' already exists.\n"
          ]
        }
      ]
    },
    {
      "cell_type": "markdown",
      "source": [
        "**Data Loading for Validation and Test Sets**\n",
        "\n",
        "In this section, we utilize the `data_loader` function to load data for validation and test sets. The loaded data includes both clean and poisoned datasets. Here's a breakdown of the code:\n",
        "\n",
        "- **Loading Clean Validation Data:**\n",
        "  - `cl_x_valid, cl_y_valid = data_loader(clean_data_valid_filename)`\n",
        "\n",
        "- **Loading Clean Test Data:**\n",
        "  - `cl_x_test, cl_y_test = data_loader(clean_data_test_filename)`\n",
        "\n",
        "- **Loading Poisoned Test Data:**\n",
        "  - `bd_x_test, bd_y_test = data_loader(poisoned_data_test_filename)`\n",
        "\n",
        "For each set, the `data_loader` function is invoked with the corresponding file path, loading input data (`x`) and label data (`y`). The resulting variables (`cl_x_valid`, `cl_y_valid`, `cl_x_test`, `cl_y_test`, `bd_x_test`, `bd_y_test`) hold the loaded datasets for subsequent analysis and model evaluation. This approach ensures that clean and poisoned data are ready for use in the upcoming sections of the notebook."
      ],
      "metadata": {
        "id": "qJs0TaVY_VmK"
      }
    },
    {
      "cell_type": "markdown",
      "source": [
        "**BEFORE EXECUTING THE NEXT CELL, PLEASE LOAD THE APPRPRIATE DATA AS MENTIONED IN THE PATH ABOVE. OTHERWISE, IT WILL THROW A \"FILE NOT FOUND\" ERROR**"
      ],
      "metadata": {
        "id": "5xFEXWZwde-N"
      }
    },
    {
      "cell_type": "code",
      "source": [
        "# Loading data using the 'data_loader' function for validation and test sets\n",
        "\n",
        "# Loading clean validation data\n",
        "cl_x_valid, cl_y_valid = data_loader(clean_data_valid_filename)\n",
        "\n",
        "# Loading clean test data\n",
        "cl_x_test, cl_y_test = data_loader(clean_data_test_filename)\n",
        "\n",
        "# Loading poisoned test data\n",
        "bd_x_test, bd_y_test = data_loader(poisoned_data_test_filename)"
      ],
      "metadata": {
        "id": "yvy5ILMGc6Ni"
      },
      "execution_count": 5,
      "outputs": []
    },
    {
      "cell_type": "markdown",
      "source": [
        "**Random Images from Clean Test Dataset**\n",
        "\n",
        "In this section, a grid of random images is generated and displayed using the clean test dataset. Here's an overview of the code:\n",
        "\n",
        "- **Number of Images to Display:**\n",
        "  - `num = 10`\n",
        "\n",
        "- **Random Seed for Reproducibility:**\n",
        "  - `np.random.seed(42)`\n",
        "\n",
        "- **Generating Random Indices:**\n",
        "  - `randIdx = [np.random.randint(10000) for i in range(num)]`\n",
        "    - Random indices are generated to select random images from the clean test dataset.\n",
        "\n",
        "- **Setting Grid Dimensions:**\n",
        "  - `num_row = 2`\n",
        "  - `num_col = 5`\n",
        "    - These variables determine the number of rows and columns for the image grid.\n",
        "\n",
        "- **Creating Subplot Grid:**\n",
        "  - `fig, axes = plt.subplots(num_row, num_col, figsize=(3*num_col, 3*num_row))`\n",
        "    - A subplot grid is created to organize and display the images.\n",
        "\n",
        "- **Displaying Random Images:**\n",
        "  - The code iterates through the selected random indices, displaying each image along with its corresponding label.\n",
        "    ```python\n",
        "    for i in range(num):\n",
        "        ax = axes[i // num_col, i % num_col]\n",
        "        ax.imshow(cl_x_test[randIdx[i]].astype('uint8'))\n",
        "        ax.set_title('label: {:.0f}'.format(cl_y_test[randIdx[i]]))\n",
        "        ax.set_xticks([])\n",
        "        ax.set_yticks([])\n",
        "    ```\n",
        "\n",
        "- **Adjusting Layout and Displaying Plot:**\n",
        "  - `plt.tight_layout()`\n",
        "  - `plt.show()`\n",
        "    - The layout is adjusted, and the plot displaying the grid of random images is shown.\n",
        "\n",
        "This visualization provides a glimpse of the images in the clean test dataset, aiding in understanding the characteristics of the data."
      ],
      "metadata": {
        "id": "b1J2AlOM_ZN6"
      }
    },
    {
      "cell_type": "code",
      "source": [
        "# Generating and displaying a grid of random images from the clean test dataset\n",
        "\n",
        "# Setting the number of images to display\n",
        "num = 10\n",
        "\n",
        "# Setting the random seed for reproducibility\n",
        "np.random.seed(42)\n",
        "\n",
        "# Generating random indices for selecting images\n",
        "randIdx = [np.random.randint(10000) for i in range(num)]\n",
        "\n",
        "# Setting the number of rows and columns for the image grid\n",
        "num_row = 2\n",
        "num_col = 5\n",
        "\n",
        "# Creating a subplot grid for displaying images\n",
        "fig, axes = plt.subplots(num_row, num_col, figsize=(3*num_col, 3*num_row))\n",
        "\n",
        "# Iterating through the selected random indices and displaying images\n",
        "for i in range(num):\n",
        "    ax = axes[i // num_col, i % num_col]\n",
        "    ax.imshow(cl_x_test[randIdx[i]].astype('uint8'))\n",
        "    ax.set_title('label: {:.0f}'.format(cl_y_test[randIdx[i]]))\n",
        "    ax.set_xticks([])\n",
        "    ax.set_yticks([])\n",
        "\n",
        "# Adjusting the layout and displaying the plot\n",
        "plt.tight_layout()\n",
        "plt.show()"
      ],
      "metadata": {
        "colab": {
          "base_uri": "https://localhost:8080/",
          "height": 483
        },
        "id": "SiYu_oVBc803",
        "outputId": "22abb655-0783-465e-8f89-26cebe30120f"
      },
      "execution_count": 6,
      "outputs": [
        {
          "output_type": "display_data",
          "data": {
            "text/plain": [
              "<Figure size 1500x600 with 10 Axes>"
            ],
            "image/png": "[encoded data removed]"
          },
          "metadata": {}
        }
      ]
    },
    {
      "cell_type": "markdown",
      "source": [
        "**Random Images from Poisoned Test Dataset**\n",
        "\n",
        "This section generates and displays a grid of random images using the poisoned test dataset. The code structure is similar to the one used for the clean test dataset, with the following key components:\n",
        "\n",
        "- **Number of Images to Display:**\n",
        "  - `num = 10`\n",
        "\n",
        "- **Random Seed for Reproducibility:**\n",
        "  - `np.random.seed(42)`\n",
        "\n",
        "- **Generating Random Indices:**\n",
        "  - `randIdx = [np.random.randint(10000) for i in range(num)]`\n",
        "\n",
        "- **Setting Grid Dimensions:**\n",
        "  - `num_row = 2`\n",
        "  - `num_col = 5`\n",
        "\n",
        "- **Creating Subplot Grid:**\n",
        "  - `fig, axes = plt.subplots(num_row, num_col, figsize=(3*num_col, 3*num_row))`\n",
        "\n",
        "- **Displaying Random Images:**\n",
        "  - The code iterates through the selected random indices, displaying each poisoned image along with its corresponding label.\n",
        "    ```python\n",
        "    for i in range(num):\n",
        "        ax = axes[i // num_col, i % num_col]\n",
        "        ax.imshow(bd_x_test[randIdx[i]].astype('uint8'))\n",
        "        ax.set_title('label: {:.0f}'.format(bd_y_test[randIdx[i]]))\n",
        "        ax.set_xticks([])\n",
        "        ax.set_yticks([])\n",
        "    ```\n",
        "\n",
        "- **Adjusting Layout and Displaying Plot:**\n",
        "  - `plt.tight_layout()`\n",
        "  - `plt.show()`\n",
        "\n",
        "This visualization provides insight into the characteristics of images in the poisoned test dataset, contributing to a better understanding of the impact of potential adversarial modifications."
      ],
      "metadata": {
        "id": "lCiouxpIAQOu"
      }
    },
    {
      "cell_type": "code",
      "source": [
        "# Generating and displaying a grid of random images from the poisoned test dataset\n",
        "\n",
        "# Setting the number of images to display\n",
        "num = 10\n",
        "\n",
        "# Setting the random seed for reproducibility\n",
        "np.random.seed(42)\n",
        "\n",
        "# Generating random indices for selecting images\n",
        "randIdx = [np.random.randint(10000) for i in range(num)]\n",
        "\n",
        "# Setting the number of rows and columns for the image grid\n",
        "num_row = 2\n",
        "num_col = 5\n",
        "\n",
        "# Creating a subplot grid for displaying images\n",
        "fig, axes = plt.subplots(num_row, num_col, figsize=(3*num_col, 3*num_row))\n",
        "\n",
        "# Iterating through the selected random indices and displaying images\n",
        "for i in range(num):\n",
        "    ax = axes[i // num_col, i % num_col]\n",
        "    ax.imshow(bd_x_test[randIdx[i]].astype('uint8'))\n",
        "    ax.set_title('label: {:.0f}'.format(bd_y_test[randIdx[i]]))\n",
        "    ax.set_xticks([])\n",
        "    ax.set_yticks([])\n",
        "\n",
        "# Adjusting the layout and displaying the plot\n",
        "plt.tight_layout()\n",
        "plt.show()\n"
      ],
      "metadata": {
        "colab": {
          "base_uri": "https://localhost:8080/",
          "height": 483
        },
        "id": "vDyu5NhgfQxx",
        "outputId": "149e94ee-dd5c-439b-d2b3-8c26cbdf3c6f"
      },
      "execution_count": 7,
      "outputs": [
        {
          "output_type": "display_data",
          "data": {
            "text/plain": [
              "<Figure size 1500x600 with 10 Axes>"
            ],
            "image/png": "[encoded data removed]"
          },
          "metadata": {}
        }
      ]
    },
    {
      "cell_type": "markdown",
      "source": [
        "# Part - 1: Threshold = 2%"
      ],
      "metadata": {
        "id": "JtiagBXv5KbJ"
      }
    },
    {
      "cell_type": "markdown",
      "source": [
        "**Loading and Creating Clones of the Original BadNet Model**\n",
        "\n",
        "In this section, we load the original BadNet model along with its weights. Subsequently, clones of the original model are created. Here's a breakdown of the code:\n",
        "\n",
        "- **Loading the Original BadNet Model:**\n",
        "  - `B = keras.models.load_model(\"bd_net.h5\")`\n",
        "    - The original BadNet model is loaded using Keras' `load_model` function.\n",
        "\n",
        "- **Loading Weights for the Original BadNet Model:**\n",
        "  - `B.load_weights(\"bd_weights.h5\")`\n",
        "    - We load the weights for the original BadNet model using the `load_weights` method.\n",
        "\n",
        "- **Creating Clones of the Original BadNet Model:**\n",
        "  - Two clones (`B_clone`) of the original BadNet model are created using the same model architecture and weights.\n",
        "    ```python\n",
        "    B_clone = keras.models.load_model(\"bd_net.h5\")\n",
        "    B_clone.load_weights(\"bd_weights.h5\")\n",
        "    ```\n",
        "  - These clones will be used for various purposes, such as making predictions and evaluating model performance, while keeping the original BadNet intact for reference.\n",
        "\n",
        "This step ensures that we have the original BadNet model ready for use, and its clones are available for experimentation without affecting the original model."
      ],
      "metadata": {
        "id": "sfuFqng6AqsI"
      }
    },
    {
      "cell_type": "markdown",
      "source": [
        "**BEFORE EXECUTING THENEXT CELL, PLEASE LOAD THE APPROPRIATE MODEL WEIGHTS IN \"/content/\" DIRECTORY DIRECTLY. OTHERWISE, IT WILL THROW A \"FILE NOT FOUND\" ERROR.**"
      ],
      "metadata": {
        "id": "xwbyX8PleCAq"
      }
    },
    {
      "cell_type": "code",
      "source": [
        "# Loading and creating clones of the original BadNet model\n",
        "\n",
        "# Loading the original BadNet model and its weights\n",
        "B = keras.models.load_model(\"bd_net.h5\")\n",
        "B.load_weights(\"bd_weights.h5\")\n",
        "\n",
        "# Creating clones of the original BadNet model\n",
        "B_clone = keras.models.load_model(\"bd_net.h5\")\n",
        "B_clone.load_weights(\"bd_weights.h5\")"
      ],
      "metadata": {
        "id": "VVV195G_fQ4T"
      },
      "execution_count": 13,
      "outputs": []
    },
    {
      "cell_type": "markdown",
      "source": [
        "**Evaluating Original BadNet Model on Clean Validation Data**\n",
        "\n",
        "In this section, we assess the accuracy of the original BadNet model (denoted as B) on the clean validation dataset. Here's an overview of the code:\n",
        "\n",
        "- **Predicting Labels:**\n",
        "  - `cl_label_p = np.argmax(B(cl_x_valid), axis=1)`\n",
        "    - We predict labels for the clean validation data using the original BadNet model (B).\n",
        "\n",
        "- **Calculating Clean Validation Accuracy:**\n",
        "  - The clean validation accuracy is computed by comparing the predicted labels (`cl_label_p`) with the actual labels (`cl_y_valid`).\n",
        "    ```python\n",
        "    clean_accuracy = np.mean(np.equal(cl_label_p, cl_y_valid)) * 100\n",
        "    ```\n",
        "  - The result is expressed as a percentage.\n",
        "\n",
        "- **Displaying Clean Validation Accuracy:**\n",
        "  - The clean validation accuracy before pruning is printed to the console:\n",
        "    ```python\n",
        "    print(\"Clean validation accuracy before pruning: {0:3.6f}\".format(clean_accuracy))\n",
        "    ```\n",
        "\n",
        "- **Clearing Keras Session:**\n",
        "  - `K.clear_session()`\n",
        "    - The Keras session is cleared to release resources. This step is essential for avoiding potential conflicts or memory issues when subsequent operations are performed.\n",
        "\n",
        "This evaluation provides an initial understanding of the original BadNet model's performance on clean validation data before any pruning or modification."
      ],
      "metadata": {
        "id": "c1ECrMZZAwYw"
      }
    },
    {
      "cell_type": "code",
      "source": [
        "# Evaluating the original BadNet model (B) accuracy on the clean validation data\n",
        "\n",
        "# Predicting labels for the clean validation data using the original BadNet model (B)\n",
        "cl_label_p = np.argmax(B(cl_x_valid), axis=1)\n",
        "\n",
        "# Calculating clean validation accuracy\n",
        "clean_accuracy = np.mean(np.equal(cl_label_p, cl_y_valid)) * 100\n",
        "\n",
        "# Displaying the clean validation accuracy before pruning\n",
        "print(\"Clean validation accuracy before pruning: {0:3.6f}\".format(clean_accuracy))\n",
        "\n",
        "# Clearing the Keras session to release resources\n",
        "K.clear_session()"
      ],
      "metadata": {
        "colab": {
          "base_uri": "https://localhost:8080/"
        },
        "id": "K6GBVcYvfQ-s",
        "outputId": "6efed463-bc71-40ae-d743-a21823bb2046"
      },
      "execution_count": 14,
      "outputs": [
        {
          "output_type": "stream",
          "name": "stdout",
          "text": [
            "Clean validation accuracy before pruning: 98.649000\n"
          ]
        }
      ]
    },
    {
      "cell_type": "markdown",
      "source": [
        "**Channel Pruning Based on Average Activations**\n",
        "\n",
        "In this section, we perform channel pruning on the original BadNet model (`B`) by targeting the last pooling layer (\"pool_3\"). The process involves the following steps:\n",
        "\n",
        "- **Model Redefinition:**\n",
        "  - `intermediate_model = Model(inputs=B.inputs, outputs=B.get_layer('pool_3').output)`\n",
        "    - We create an intermediate model (`intermediate_model`) that outputs right after the last pooling layer (\"pool_3\").\n",
        "\n",
        "- **Feature Map and Average Activation Calculation:**\n",
        "  - `feature_maps_cl = tf.shape(intermediate_model(cl_x_valid))[3]`\n",
        "  - `averageActivationsCl = np.mean(intermediate_model(cl_x_valid), axis=(0, 1, 2))`\n",
        "    - We calculate the feature map dimensions and the average activation value of each channel in the last pooling layer.\n",
        "\n",
        "- **Sorting Indices for Pruning:**\n",
        "  - `idxToPrune = np.argsort(averageActivationsCl)`\n",
        "    - The indices of average activation values are sorted in increasing order.\n",
        "\n",
        "- **Getting Conv_3 Layer Weights and Biases:**\n",
        "  - `lastConvLayerWeights = B.get_layer('conv_3').get_weights()[0]`\n",
        "  - `lastConvLayerBiases = B.get_layer('conv_3').get_weights()[1]`\n",
        "    - We obtain the weights and biases of the `conv_3` layer from the original network.\n",
        "\n",
        "- **Iterative Channel Pruning:**\n",
        "  - The code iterates through each channel index to prune:\n",
        "    ```python\n",
        "    for chIdx in idxToPrune:\n",
        "        # Pruning one channel at a time\n",
        "        lastConvLayerWeights[:, :, :, chIdx] = 0.\n",
        "        lastConvLayerBiases[chIdx] = 0.\n",
        "\n",
        "        # Updating weights and biases of B_clone using the set_weights() method\n",
        "        B_clone.get_layer('conv_3').set_weights([lastConvLayerWeights, lastConvLayerBiases])\n",
        "\n",
        "        # Evaluating the updated model's (B_clone) clean validation accuracy\n",
        "        cl_label_p_valid = np.argmax(B_clone(cl_x_valid), axis=1)\n",
        "        clean_accuracy_valid = np.mean(np.equal(cl_label_p_valid, cl_y_valid)) * 100\n",
        "\n",
        "        # Checking if the drop in clean_accuracy_valid is greater than or equal to the desired threshold compared to clean_accuracy\n",
        "        if clean_accuracy - clean_accuracy_valid >= 2:  # Threshold = 2%\n",
        "            # Saving B_clone as B_prime and breaking out of the loop\n",
        "            B_clone.save(\"B_prime_2percent\")\n",
        "            !zip -r \"2percent.zip\" \"B_prime_2percent/\"\n",
        "            files.download(\"2percent.zip\")\n",
        "            break\n",
        "    ```\n",
        "\n",
        "- **Saving the Pruned Model:**\n",
        "  - If the drop in clean validation accuracy (`clean_accuracy_valid`) is greater than or equal to the desired threshold compared to the original accuracy (`clean_accuracy`), the pruned model (`B_clone`) is saved as `B_prime_2percent`.\n",
        "\n",
        "- **Downloading the Pruned Model:**\n",
        "  - The pruned model is zipped and made available for download.\n",
        "\n",
        "This code implements a simple channel pruning strategy based on the average activation values, with a condition to stop pruning if a specified accuracy drop is reached. The pruned model (`B_prime_2percent`) can be downloaded for further analysis and use."
      ],
      "metadata": {
        "id": "EPPnU6M5BERl"
      }
    },
    {
      "cell_type": "code",
      "source": [
        "# Redefining the model to output right after the last pooling layer (\"pool_3\")\n",
        "intermediate_model = Model(inputs=B.inputs, outputs=B.get_layer('pool_3').output)\n",
        "\n",
        "# Getting the feature map for the last pooling layer (\"pool_3\") using the clean validation data and intermediate_model\n",
        "feature_maps_cl = tf.shape(intermediate_model(cl_x_valid))[3]\n",
        "\n",
        "# Getting the average activation value of each channel in the last pooling layer (\"pool_3\")\n",
        "averageActivationsCl = np.mean(intermediate_model(cl_x_valid), axis=(0, 1, 2))\n",
        "print(len(averageActivationsCl))\n",
        "\n",
        "# Storing the indices of average activation values (averageActivationsCl) in increasing order\n",
        "idxToPrune = np.argsort(averageActivationsCl)\n",
        "print(idxToPrune)\n",
        "\n",
        "# Getting the conv_3 layer weights and biases from the original network that will be used for pruning\n",
        "lastConvLayerWeights = B.get_layer('conv_3').get_weights()[0]\n",
        "print(tf.shape(lastConvLayerWeights))\n",
        "lastConvLayerBiases = B.get_layer('conv_3').get_weights()[1]\n",
        "print(tf.shape(lastConvLayerBiases))\n",
        "\n",
        "# Iterating through each channel index to prune\n",
        "for chIdx in idxToPrune:\n",
        "\n",
        "    # Pruning one channel at a time\n",
        "    lastConvLayerWeights[:, :, :, chIdx] = 0.\n",
        "    lastConvLayerBiases[chIdx] = 0.\n",
        "\n",
        "    # Updating weights and biases of B_clone using the set_weights() method\n",
        "    B_clone.get_layer('conv_3').set_weights([lastConvLayerWeights, lastConvLayerBiases])\n",
        "\n",
        "    # Evaluating the updated model's (B_clone) clean validation accuracy\n",
        "    cl_label_p_valid = np.argmax(B_clone(cl_x_valid), axis=1)\n",
        "    clean_accuracy_valid = np.mean(np.equal(cl_label_p_valid, cl_y_valid)) * 100\n",
        "\n",
        "    # Checking if the drop in clean_accuracy_valid is greater than or equal to the desired threshold compared to clean_accuracy\n",
        "    if clean_accuracy - clean_accuracy_valid >= 2:\n",
        "\n",
        "        # Saving B_clone as B_prime and breaking out of the loop\n",
        "        B_clone.save(\"B_prime_2percent\")\n",
        "        !zip -r \"2percent.zip\" \"B_prime_2percent/\"\n",
        "        files.download(\"2percent.zip\")\n",
        "\n",
        "        break"
      ],
      "metadata": {
        "colab": {
          "base_uri": "https://localhost:8080/",
          "height": 260
        },
        "id": "qF59EQAmfRE1",
        "outputId": "3a859082-ccd7-4ac2-be78-e489513522b2"
      },
      "execution_count": 15,
      "outputs": [
        {
          "output_type": "stream",
          "name": "stdout",
          "text": [
            "60\n",
            "[ 0 26 27 30 31 33 34 36 37 38 25 39 41 44 45 47 48 49 50 53 55 40 24 59\n",
            "  9  2 12 13 17 14 15 23  6 51 32 22 21 20 19 43 58  3 42  1 29 16 56 46\n",
            "  5  8 11 54 10 28 35 18  4  7 52 57]\n",
            "tf.Tensor([ 3  3 40 60], shape=(4,), dtype=int32)\n",
            "tf.Tensor([60], shape=(1,), dtype=int32)\n",
            "  adding: B_prime_2percent/ (stored 0%)\n",
            "  adding: B_prime_2percent/saved_model.pb (deflated 88%)\n",
            "  adding: B_prime_2percent/keras_metadata.pb (deflated 93%)\n",
            "  adding: B_prime_2percent/assets/ (stored 0%)\n",
            "  adding: B_prime_2percent/fingerprint.pb (stored 0%)\n",
            "  adding: B_prime_2percent/variables/ (stored 0%)\n",
            "  adding: B_prime_2percent/variables/variables.index (deflated 69%)\n",
            "  adding: B_prime_2percent/variables/variables.data-00000-of-00001 (deflated 40%)\n"
          ]
        },
        {
          "output_type": "display_data",
          "data": {
            "text/plain": [
              "<IPython.core.display.Javascript object>"
            ],
            "application/javascript": [
              "\n",
              "    async function download(id, filename, size) {\n",
              "      if (!google.colab.kernel.accessAllowed) {\n",
              "        return;\n",
              "      }\n",
              "      const div = document.createElement('div');\n",
              "      const label = document.createElement('label');\n",
              "      label.textContent = `Downloading \"${filename}\": `;\n",
              "      div.appendChild(label);\n",
              "      const progress = document.createElement('progress');\n",
              "      progress.max = size;\n",
              "      div.appendChild(progress);\n",
              "      document.body.appendChild(div);\n",
              "\n",
              "      const buffers = [];\n",
              "      let downloaded = 0;\n",
              "\n",
              "      const channel = await google.colab.kernel.comms.open(id);\n",
              "      // Send a message to notify the kernel that we're ready.\n",
              "      channel.send({})\n",
              "\n",
              "      for await (const message of channel.messages) {\n",
              "        // Send a message to notify the kernel that we're ready.\n",
              "        channel.send({})\n",
              "        if (message.buffers) {\n",
              "          for (const buffer of message.buffers) {\n",
              "            buffers.push(buffer);\n",
              "            downloaded += buffer.byteLength;\n",
              "            progress.value = downloaded;\n",
              "          }\n",
              "        }\n",
              "      }\n",
              "      const blob = new Blob(buffers, {type: 'application/binary'});\n",
              "      const a = document.createElement('a');\n",
              "      a.href = window.URL.createObjectURL(blob);\n",
              "      a.download = filename;\n",
              "      div.appendChild(a);\n",
              "      a.click();\n",
              "      div.remove();\n",
              "    }\n",
              "  "
            ]
          },
          "metadata": {}
        },
        {
          "output_type": "display_data",
          "data": {
            "text/plain": [
              "<IPython.core.display.Javascript object>"
            ],
            "application/javascript": [
              "download(\"download_fa93ac6e-7aea-4ca6-9ab6-a10803fe5782\", \"2percent.zip\", 4397039)"
            ]
          },
          "metadata": {}
        }
      ]
    },
    {
      "cell_type": "markdown",
      "source": [
        "**Adversarial Model (G) Definition**\n",
        "\n",
        "The code defines a custom adversarial model class named `G` with the purpose of generating adversarial examples. This class inherits from `tf.keras.Model` and takes two models, the original BadNet (`B`) and the pruned BadNet (`B_prime`), as inputs. Here's a breakdown of the code:\n",
        "\n",
        "```python\n",
        "class G(tf.keras.Model):\n",
        "    def __init__(self, B, B_prime):\n",
        "        super(G, self).__init__()\n",
        "        self.B = B\n",
        "        self.B_prime = B_prime\n",
        "\n",
        "    def predict(self, data):\n",
        "        # Predicting labels using the original BadNet (B) and modified BadNet (B_prime)\n",
        "        y = np.argmax(self.B(data), axis=1)\n",
        "        y_prime = np.argmax(self.B_prime(data), axis=1)\n",
        "\n",
        "        # Creating temporary results with 1283 label for inconsistent predictions\n",
        "        tmpRes = np.array([y[i] if y[i] == y_prime[i] else 1283 for i in range(y.shape[0])])\n",
        "\n",
        "        # Creating a one-hot encoded result array\n",
        "        res = np.zeros((y.shape[0], 1284))\n",
        "        res[np.arange(tmpRes.size), tmpRes] = 1\n",
        "        return res\n",
        "\n",
        "    def call(self, data):\n",
        "        # Predicting labels using the original BadNet (B) and modified BadNet (B_prime)\n",
        "        y = np.argmax(self.B(data), axis=1)\n",
        "        y_prime = np.argmax(self.B_prime(data), axis=1)\n",
        "\n",
        "        # Creating temporary results with 1283 label for inconsistent predictions\n",
        "        tmpRes = np.array([y[i] if y[i] == y_prime[i] else 1283 for i in range(y.shape[0])])\n",
        "\n",
        "        # Creating a one-hot encoded result array\n",
        "        res = np.zeros((y.shape[0], 1284))\n",
        "        res[np.arange(tmpRes.size), tmpRes] = 1\n",
        "        return res\n",
        "```\n",
        "\n",
        "- **Initialization:**\n",
        "  - The `__init__` method initializes the adversarial model with references to the original BadNet (`B`) and the pruned BadNet (`B_prime`).\n",
        "\n",
        "- **Predict Method:**\n",
        "  - The `predict` method takes input data and predicts labels using both the original BadNet and the modified BadNet (`B_prime`).\n",
        "  - It creates temporary results with a label of 1283 for inconsistent predictions.\n",
        "  - A one-hot encoded result array (`res`) is generated based on the temporary results.\n",
        "\n",
        "- **Call Method:**\n",
        "  - The `call` method is an alternative to `predict` for small batches that fit in memory.\n",
        "  - It performs the same operations as the `predict` method.\n",
        "\n",
        "This adversarial model is designed to generate adversarial examples by leveraging inconsistent predictions between the original BadNet and the modified BadNet (`B_prime`). The one-hot encoded result array provides a representation of the adversarial labels."
      ],
      "metadata": {
        "id": "nWC-7XG2ByX2"
      }
    },
    {
      "cell_type": "code",
      "source": [
        "class G(tf.keras.Model):\n",
        "    def __init__(self, B, B_prime):\n",
        "        super(G, self).__init__()\n",
        "        self.B = B\n",
        "        self.B_prime = B_prime\n",
        "\n",
        "    def predict(self, data):\n",
        "        # Predicting labels using the original BadNet (B) and modified BadNet (B_prime)\n",
        "        y = np.argmax(self.B(data), axis=1)\n",
        "        y_prime = np.argmax(self.B_prime(data), axis=1)\n",
        "\n",
        "        # Creating temporary results with 1283 label for inconsistent predictions\n",
        "        tmpRes = np.array([y[i] if y[i] == y_prime[i] else 1283 for i in range(y.shape[0])])\n",
        "\n",
        "        # Creating a one-hot encoded result array\n",
        "        res = np.zeros((y.shape[0], 1284))\n",
        "        res[np.arange(tmpRes.size), tmpRes] = 1\n",
        "        return res\n",
        "\n",
        "    def call(self, data):\n",
        "        # Predicting labels using the original BadNet (B) and modified BadNet (B_prime)\n",
        "        y = np.argmax(self.B(data), axis=1)\n",
        "        y_prime = np.argmax(self.B_prime(data), axis=1)\n",
        "\n",
        "        # Creating temporary results with 1283 label for inconsistent predictions\n",
        "        tmpRes = np.array([y[i] if y[i] == y_prime[i] else 1283 for i in range(y.shape[0])])\n",
        "\n",
        "        # Creating a one-hot encoded result array\n",
        "        res = np.zeros((y.shape[0], 1284))\n",
        "        res[np.arange(tmpRes.size), tmpRes] = 1\n",
        "        return res"
      ],
      "metadata": {
        "id": "_uKZjrijfRLG"
      },
      "execution_count": 35,
      "outputs": []
    },
    {
      "cell_type": "markdown",
      "source": [
        "**Loading the Pruned BadNet Model (B_prime)**\n",
        "\n",
        "In this section, the pruned BadNet model (`B_prime`) is loaded into the notebook using the Keras `load_model` function. This allows for further analysis and evaluation of the model. The code for loading the model is as follows:\n",
        "\n",
        "```python\n",
        "B_prime = keras.models.load_model(\"B_prime_2percent\")\n",
        "```\n",
        "\n",
        "Now, the pruned BadNet model is accessible as the variable `B_prime` for use in subsequent sections of the notebook."
      ],
      "metadata": {
        "id": "nU1qiL9UCGjM"
      }
    },
    {
      "cell_type": "code",
      "source": [
        "# Loading the B_prime model\n",
        "\n",
        "B_prime = keras.models.load_model(\"B_prime_2percent\")"
      ],
      "metadata": {
        "id": "-Kzty6LKfRRg"
      },
      "execution_count": 18,
      "outputs": []
    },
    {
      "cell_type": "markdown",
      "source": [
        "**Evaluating B_prime Model on Clean and Poisoned Test Data**\n",
        "\n",
        "In this section, the performance of the pruned BadNet model (`B_prime`) is evaluated on both clean and poisoned test datasets. Here's an overview of the code:\n",
        "\n",
        "```python\n",
        "# Predicting labels for clean test data using the B_prime model\n",
        "cl_label_p = np.argmax(B_prime.predict(cl_x_test), axis=1)\n",
        "clean_accuracy_B_prime = np.mean(np.equal(cl_label_p, cl_y_test)) * 100\n",
        "print('Clean Classification accuracy for B_prime:', clean_accuracy_B_prime)\n",
        "\n",
        "# Predicting labels for poisoned test data using the B_prime model\n",
        "bd_label_p = np.argmax(B_prime.predict(bd_x_test), axis=1)\n",
        "asr_B_prime = np.mean(np.equal(bd_label_p, bd_y_test)) * 100\n",
        "print('Attack Success Rate for B_prime:', asr_B_prime)\n",
        "```\n",
        "\n",
        "- **Clean Classification Accuracy:**\n",
        "  - `cl_label_p = np.argmax(B_prime.predict(cl_x_test), axis=1)`\n",
        "  - `clean_accuracy_B_prime = np.mean(np.equal(cl_label_p, cl_y_test)) * 100`\n",
        "    - Predictions are made on the clean test data using the pruned BadNet model (`B_prime`), and the clean classification accuracy is calculated.\n",
        "\n",
        "- **Attack Success Rate (ASR):**\n",
        "  - `bd_label_p = np.argmax(B_prime.predict(bd_x_test), axis=1)`\n",
        "  - `asr_B_prime = np.mean(np.equal(bd_label_p, bd_y_test)) * 100`\n",
        "    - Predictions are made on the poisoned test data using the pruned BadNet model (`B_prime`), and the Attack Success Rate (ASR) is calculated.\n",
        "\n",
        "The printed results provide insights into how well the pruned BadNet model performs on clean and poisoned test datasets."
      ],
      "metadata": {
        "id": "xh5_QLYiCLn-"
      }
    },
    {
      "cell_type": "code",
      "source": [
        "# Evaluating the B_prime model on clean and poisoned test data\n",
        "\n",
        "# Predicting labels for clean test data using the B_prime model\n",
        "cl_label_p = np.argmax(B_prime.predict(cl_x_test), axis=1)\n",
        "clean_accuracy_B_prime = np.mean(np.equal(cl_label_p, cl_y_test)) * 100\n",
        "print('Clean Classification accuracy for B_prime:', clean_accuracy_B_prime)\n",
        "\n",
        "# Predicting labels for poisoned test data using the B_prime model\n",
        "bd_label_p = np.argmax(B_prime.predict(bd_x_test), axis=1)\n",
        "asr_B_prime = np.mean(np.equal(bd_label_p, bd_y_test)) * 100\n",
        "print('Attack Success Rate for B_prime:', asr_B_prime)"
      ],
      "metadata": {
        "colab": {
          "base_uri": "https://localhost:8080/"
        },
        "id": "1njDTARofRhc",
        "outputId": "fd2a3dc4-191e-47dc-cf1a-a242881c0657"
      },
      "execution_count": 19,
      "outputs": [
        {
          "output_type": "stream",
          "name": "stdout",
          "text": [
            "401/401 [==============================] - 2s 3ms/step\n",
            "Clean Classification accuracy for B_prime: 95.90023382696803\n",
            "401/401 [==============================] - 1s 3ms/step\n",
            "Attack Success Rate for B_prime: 100.0\n"
          ]
        }
      ]
    },
    {
      "cell_type": "markdown",
      "source": [
        "**Evaluating Original BadNet (B) Model on Clean and Poisoned Test Data**\n",
        "\n",
        "In this section, the performance of the original BadNet model (`B`) is evaluated on both clean and poisoned test datasets. Here's an overview of the code:\n",
        "\n",
        "```python\n",
        "# Predicting labels for clean test data using the original BadNet (B) model\n",
        "cl_label_p = np.argmax(B.predict(cl_x_test), axis=1)\n",
        "clean_accuracy_B = np.mean(np.equal(cl_label_p, cl_y_test)) * 100\n",
        "print('Clean Classification accuracy for B:', clean_accuracy_B)\n",
        "\n",
        "# Predicting labels for poisoned test data using the original BadNet (B) model\n",
        "bd_label_p = np.argmax(B.predict(bd_x_test), axis=1)\n",
        "asr_B = np.mean(np.equal(bd_label_p, bd_y_test)) * 100\n",
        "print('Attack Success Rate for B:', asr_B)\n",
        "```\n",
        "\n",
        "- **Clean Classification Accuracy:**\n",
        "  - `cl_label_p = np.argmax(B.predict(cl_x_test), axis=1)`\n",
        "  - `clean_accuracy_B = np.mean(np.equal(cl_label_p, cl_y_test)) * 100`\n",
        "    - Predictions are made on the clean test data using the original BadNet model (`B`), and the clean classification accuracy is calculated.\n",
        "\n",
        "- **Attack Success Rate (ASR):**\n",
        "  - `bd_label_p = np.argmax(B.predict(bd_x_test), axis=1)`\n",
        "  - `asr_B = np.mean(np.equal(bd_label_p, bd_y_test)) * 100`\n",
        "    - Predictions are made on the poisoned test data using the original BadNet model (`B`), and the Attack Success Rate (ASR) is calculated.\n",
        "\n",
        "The printed results provide insights into the performance of the original BadNet model on both clean and poisoned test datasets. Comparing these results with the evaluation of the pruned BadNet model (`B_prime`) can help assess the impact of the pruning process on the model's robustness."
      ],
      "metadata": {
        "id": "Qup2IRF3CpqS"
      }
    },
    {
      "cell_type": "code",
      "source": [
        "# Evaluating the original BadNet (B) model on clean and poisoned test data\n",
        "\n",
        "# Predicting labels for clean test data using the original BadNet (B) model\n",
        "cl_label_p = np.argmax(B.predict(cl_x_test), axis=1)\n",
        "clean_accuracy_B = np.mean(np.equal(cl_label_p, cl_y_test)) * 100\n",
        "print('Clean Classification accuracy for B:', clean_accuracy_B)\n",
        "\n",
        "# Predicting labels for poisoned test data using the original BadNet (B) model\n",
        "bd_label_p = np.argmax(B.predict(bd_x_test), axis=1)\n",
        "asr_B = np.mean(np.equal(bd_label_p, bd_y_test)) * 100\n",
        "print('Attack Success Rate for B:', asr_B)"
      ],
      "metadata": {
        "colab": {
          "base_uri": "https://localhost:8080/"
        },
        "id": "rs7slcN8fRnm",
        "outputId": "fc3d9a58-809d-4dd8-bf5b-4e053e9f5081"
      },
      "execution_count": 20,
      "outputs": [
        {
          "output_type": "stream",
          "name": "stdout",
          "text": [
            "401/401 [==============================] - 1s 3ms/step\n",
            "Clean Classification accuracy for B: 98.62042088854248\n",
            "401/401 [==============================] - 1s 3ms/step\n",
            "Attack Success Rate for B: 100.0\n"
          ]
        }
      ]
    },
    {
      "cell_type": "markdown",
      "source": [
        "**Creating the Repaired Network (repaired_net) using the G class**\n",
        "\n",
        "In this section, the repaired network (`repaired_net`) is created using the `G` class. The `G` class takes the original BadNet (`B`) and the pruned BadNet (`B_prime`) as arguments to generate adversarial examples. Here's the code:\n",
        "\n",
        "```python\n",
        "# Providing the original BadNet (B) and modified BadNet (B_prime) as arguments to the G class\n",
        "repaired_net = G(B, B_prime)\n",
        "```\n",
        "\n",
        "Now, the `repaired_net` is an instance of the `G` class, ready to be used for generating adversarial examples and exploring the effectiveness of the repair mechanism."
      ],
      "metadata": {
        "id": "pAKWaD-cC5DP"
      }
    },
    {
      "cell_type": "code",
      "source": [
        "# Creating the repaired network (repaired_net) using the G class\n",
        "\n",
        "# Providing the original BadNet (B) and modified BadNet (B_prime) as arguments to the G class\n",
        "repaired_net = G(B, B_prime)"
      ],
      "metadata": {
        "id": "HcttxsMMfRtf"
      },
      "execution_count": 21,
      "outputs": []
    },
    {
      "cell_type": "markdown",
      "source": [
        "**Evaluating the Repaired Network (repaired_net) on Clean and Poisoned Test Data**\n",
        "\n",
        "In this section, the performance of the repaired network (`repaired_net`) is evaluated on both clean and poisoned test datasets. Here's an overview of the code:\n",
        "\n",
        "```python\n",
        "# Predicting labels for clean test data using the repaired network (repaired_net)\n",
        "cl_label_p = np.argmax(repaired_net(cl_x_test), axis=1)\n",
        "clean_accuracy_repaired_net = np.mean(np.equal(cl_label_p, cl_y_test)) * 100\n",
        "print('Clean Classification accuracy for repaired net:', clean_accuracy_repaired_net)\n",
        "\n",
        "# Predicting labels for poisoned test data using the repaired network (repaired_net)\n",
        "bd_label_p = np.argmax(repaired_net(bd_x_test), axis=1)\n",
        "asr_repaired_net = np.mean(np.equal(bd_label_p, bd_y_test)) * 100\n",
        "print('Attack Success Rate for repaired net:', asr_repaired_net)\n",
        "```\n",
        "\n",
        "- **Clean Classification Accuracy:**\n",
        "  - Predictions are made on the clean test data using the repaired network (`repaired_net`), and the clean classification accuracy is calculated.\n",
        "\n",
        "- **Attack Success Rate (ASR):**\n",
        "  - Predictions are made on the poisoned test data using the repaired network (`repaired_net`), and the Attack Success Rate (ASR) is calculated.\n",
        "\n",
        "These results provide insights into the effectiveness of the repair mechanism implemented in the `G` class. Comparing the performance of the repaired network with the original BadNet (`B`) and the pruned BadNet (`B_prime`) helps assess the success of the repair process in mitigating the impact of poisoning attacks."
      ],
      "metadata": {
        "id": "gFJiwnSoC91r"
      }
    },
    {
      "cell_type": "code",
      "source": [
        "# Evaluating the repaired network (repaired_net) on clean and poisoned test data\n",
        "\n",
        "# Predicting labels for clean test data using the repaired network (repaired_net)\n",
        "cl_label_p = np.argmax(repaired_net(cl_x_test), axis=1)\n",
        "clean_accuracy_repaired_net = np.mean(np.equal(cl_label_p, cl_y_test)) * 100\n",
        "print('Clean Classification accuracy for repaired net:', clean_accuracy_repaired_net)\n",
        "\n",
        "# Predicting labels for poisoned test data using the repaired network (repaired_net)\n",
        "bd_label_p = np.argmax(repaired_net(bd_x_test), axis=1)\n",
        "asr_repaired_net = np.mean(np.equal(bd_label_p, bd_y_test)) * 100\n",
        "print('Attack Success Rate for repaired net:', asr_repaired_net)"
      ],
      "metadata": {
        "colab": {
          "base_uri": "https://localhost:8080/"
        },
        "id": "KcWbGh2dzSDp",
        "outputId": "302749c1-c136-46dd-bf0d-ec28d9b36014"
      },
      "execution_count": 22,
      "outputs": [
        {
          "output_type": "stream",
          "name": "stdout",
          "text": [
            "Clean Classification accuracy for repaired net: 95.74434918160561\n",
            "Attack Success Rate for repaired net: 100.0\n"
          ]
        }
      ]
    },
    {
      "cell_type": "code",
      "source": [
        "repaired_net.save_weights('/content/rep_model_2percent/', save_format = 'tf')\n",
        "!zip -r \"rep_net_2percent.zip\" \"rep_model_2percent/\"\n",
        "files.download(\"rep_net_2percent.zip\")"
      ],
      "metadata": {
        "colab": {
          "base_uri": "https://localhost:8080/",
          "height": 86
        },
        "id": "irz0gRfIGWKD",
        "outputId": "c4e55d0d-4515-4961-af17-8be73d9a8c96"
      },
      "execution_count": 37,
      "outputs": [
        {
          "output_type": "stream",
          "name": "stdout",
          "text": [
            "  adding: rep_model_2percent/ (stored 0%)\n",
            "  adding: rep_model_2percent/checkpoint (deflated 34%)\n",
            "  adding: rep_model_2percent/.data-00000-of-00001 (deflated 31%)\n",
            "  adding: rep_model_2percent/.index (deflated 71%)\n"
          ]
        },
        {
          "output_type": "display_data",
          "data": {
            "text/plain": [
              "<IPython.core.display.Javascript object>"
            ],
            "application/javascript": [
              "\n",
              "    async function download(id, filename, size) {\n",
              "      if (!google.colab.kernel.accessAllowed) {\n",
              "        return;\n",
              "      }\n",
              "      const div = document.createElement('div');\n",
              "      const label = document.createElement('label');\n",
              "      label.textContent = `Downloading \"${filename}\": `;\n",
              "      div.appendChild(label);\n",
              "      const progress = document.createElement('progress');\n",
              "      progress.max = size;\n",
              "      div.appendChild(progress);\n",
              "      document.body.appendChild(div);\n",
              "\n",
              "      const buffers = [];\n",
              "      let downloaded = 0;\n",
              "\n",
              "      const channel = await google.colab.kernel.comms.open(id);\n",
              "      // Send a message to notify the kernel that we're ready.\n",
              "      channel.send({})\n",
              "\n",
              "      for await (const message of channel.messages) {\n",
              "        // Send a message to notify the kernel that we're ready.\n",
              "        channel.send({})\n",
              "        if (message.buffers) {\n",
              "          for (const buffer of message.buffers) {\n",
              "            buffers.push(buffer);\n",
              "            downloaded += buffer.byteLength;\n",
              "            progress.value = downloaded;\n",
              "          }\n",
              "        }\n",
              "      }\n",
              "      const blob = new Blob(buffers, {type: 'application/binary'});\n",
              "      const a = document.createElement('a');\n",
              "      a.href = window.URL.createObjectURL(blob);\n",
              "      a.download = filename;\n",
              "      div.appendChild(a);\n",
              "      a.click();\n",
              "      div.remove();\n",
              "    }\n",
              "  "
            ]
          },
          "metadata": {}
        },
        {
          "output_type": "display_data",
          "data": {
            "text/plain": [
              "<IPython.core.display.Javascript object>"
            ],
            "application/javascript": [
              "download(\"download_7397da4c-88cf-4a87-90a6-48da3d001ba0\", \"rep_net_2percent.zip\", 6625372)"
            ]
          },
          "metadata": {}
        }
      ]
    },
    {
      "cell_type": "markdown",
      "source": [
        "**NOW, REPEAT THE ABOVE DEFINED PROCESS FOR THRESHOLD = 4%**"
      ],
      "metadata": {
        "id": "JAP3wN4DEWGe"
      }
    },
    {
      "cell_type": "markdown",
      "source": [
        "# Part - 2: Threshold = 4%"
      ],
      "metadata": {
        "id": "YPndtuy_zhZa"
      }
    },
    {
      "cell_type": "code",
      "source": [
        "# Loading and creating clones of the original BadNet model\n",
        "\n",
        "# Loading the original BadNet model and its weights\n",
        "B = keras.models.load_model(\"bd_net.h5\")\n",
        "B.load_weights(\"bd_weights.h5\")\n",
        "\n",
        "# Creating clones of the original BadNet model\n",
        "B_clone = keras.models.load_model(\"bd_net.h5\")\n",
        "B_clone.load_weights(\"bd_weights.h5\")"
      ],
      "metadata": {
        "id": "pBHUBXmNzSMq"
      },
      "execution_count": 38,
      "outputs": []
    },
    {
      "cell_type": "code",
      "source": [
        "# Redefining the model to output right after the last pooling layer (\"pool_3\")\n",
        "intermediate_model = Model(inputs=B.inputs, outputs=B.get_layer('pool_3').output)\n",
        "\n",
        "# Getting the feature map for the last pooling layer (\"pool_3\") using the clean validation data and intermediate_model\n",
        "feature_maps_cl = tf.shape(intermediate_model(cl_x_valid))[3]\n",
        "\n",
        "# Getting the average activation value of each channel in the last pooling layer (\"pool_3\")\n",
        "averageActivationsCl = np.mean(intermediate_model(cl_x_valid), axis=(0, 1, 2))\n",
        "print(len(averageActivationsCl))\n",
        "\n",
        "# Storing the indices of average activation values (averageActivationsCl) in increasing order\n",
        "idxToPrune = np.argsort(averageActivationsCl)\n",
        "print(idxToPrune)\n",
        "\n",
        "# Getting the conv_3 layer weights and biases from the original network that will be used for pruning\n",
        "lastConvLayerWeights = B.get_layer('conv_3').get_weights()[0]\n",
        "print(tf.shape(lastConvLayerWeights))\n",
        "lastConvLayerBiases = B.get_layer('conv_3').get_weights()[1]\n",
        "print(tf.shape(lastConvLayerBiases))\n",
        "\n",
        "# Iterating through each channel index to prune\n",
        "for chIdx in idxToPrune:\n",
        "\n",
        "    # Pruning one channel at a time\n",
        "    lastConvLayerWeights[:, :, :, chIdx] = 0.\n",
        "    lastConvLayerBiases[chIdx] = 0.\n",
        "\n",
        "    # Updating weights and biases of B_clone using the set_weights() method\n",
        "    B_clone.get_layer('conv_3').set_weights([lastConvLayerWeights, lastConvLayerBiases])\n",
        "\n",
        "    # Evaluating the updated model's (B_clone) clean validation accuracy\n",
        "    cl_label_p_valid = np.argmax(B_clone(cl_x_valid), axis=1)\n",
        "    clean_accuracy_valid = np.mean(np.equal(cl_label_p_valid, cl_y_valid)) * 100\n",
        "\n",
        "    # Checking if the drop in clean_accuracy_valid is greater than or equal to the desired threshold compared to clean_accuracy\n",
        "    if clean_accuracy - clean_accuracy_valid >= 4:\n",
        "        # Saving B_clone as B_prime and breaking out of the loop\n",
        "        B_clone.save(\"B_prime_4percent\")\n",
        "        !zip -r \"4percent.zip\" \"B_prime_4percent/\"\n",
        "        files.download(\"4percent.zip\")\n",
        "        break"
      ],
      "metadata": {
        "colab": {
          "base_uri": "https://localhost:8080/",
          "height": 260
        },
        "id": "Ugo0kB0zzSUf",
        "outputId": "92ad4afc-a507-4c9e-e7b2-21bf07130e8a"
      },
      "execution_count": 39,
      "outputs": [
        {
          "output_type": "stream",
          "name": "stdout",
          "text": [
            "60\n",
            "[ 0 26 27 30 31 33 34 36 37 38 25 39 41 44 45 47 48 49 50 53 55 40 24 59\n",
            "  9  2 12 13 17 14 15 23  6 51 32 22 21 20 19 43 58  3 42  1 29 16 56 46\n",
            "  5  8 11 54 10 28 35 18  4  7 52 57]\n",
            "tf.Tensor([ 3  3 40 60], shape=(4,), dtype=int32)\n",
            "tf.Tensor([60], shape=(1,), dtype=int32)\n",
            "  adding: B_prime_4percent/ (stored 0%)\n",
            "  adding: B_prime_4percent/saved_model.pb (deflated 88%)\n",
            "  adding: B_prime_4percent/keras_metadata.pb (deflated 93%)\n",
            "  adding: B_prime_4percent/assets/ (stored 0%)\n",
            "  adding: B_prime_4percent/fingerprint.pb (stored 0%)\n",
            "  adding: B_prime_4percent/variables/ (stored 0%)\n",
            "  adding: B_prime_4percent/variables/variables.index (deflated 69%)\n",
            "  adding: B_prime_4percent/variables/variables.data-00000-of-00001 (deflated 40%)\n"
          ]
        },
        {
          "output_type": "display_data",
          "data": {
            "text/plain": [
              "<IPython.core.display.Javascript object>"
            ],
            "application/javascript": [
              "\n",
              "    async function download(id, filename, size) {\n",
              "      if (!google.colab.kernel.accessAllowed) {\n",
              "        return;\n",
              "      }\n",
              "      const div = document.createElement('div');\n",
              "      const label = document.createElement('label');\n",
              "      label.textContent = `Downloading \"${filename}\": `;\n",
              "      div.appendChild(label);\n",
              "      const progress = document.createElement('progress');\n",
              "      progress.max = size;\n",
              "      div.appendChild(progress);\n",
              "      document.body.appendChild(div);\n",
              "\n",
              "      const buffers = [];\n",
              "      let downloaded = 0;\n",
              "\n",
              "      const channel = await google.colab.kernel.comms.open(id);\n",
              "      // Send a message to notify the kernel that we're ready.\n",
              "      channel.send({})\n",
              "\n",
              "      for await (const message of channel.messages) {\n",
              "        // Send a message to notify the kernel that we're ready.\n",
              "        channel.send({})\n",
              "        if (message.buffers) {\n",
              "          for (const buffer of message.buffers) {\n",
              "            buffers.push(buffer);\n",
              "            downloaded += buffer.byteLength;\n",
              "            progress.value = downloaded;\n",
              "          }\n",
              "        }\n",
              "      }\n",
              "      const blob = new Blob(buffers, {type: 'application/binary'});\n",
              "      const a = document.createElement('a');\n",
              "      a.href = window.URL.createObjectURL(blob);\n",
              "      a.download = filename;\n",
              "      div.appendChild(a);\n",
              "      a.click();\n",
              "      div.remove();\n",
              "    }\n",
              "  "
            ]
          },
          "metadata": {}
        },
        {
          "output_type": "display_data",
          "data": {
            "text/plain": [
              "<IPython.core.display.Javascript object>"
            ],
            "application/javascript": [
              "download(\"download_e3dc05b0-f4fb-4323-b906-c9ea0b86e292\", \"4percent.zip\", 4391838)"
            ]
          },
          "metadata": {}
        }
      ]
    },
    {
      "cell_type": "code",
      "source": [
        "# Loading the B_prime model\n",
        "\n",
        "# Provide the filepath for the B_prime model\n",
        "B_prime = keras.models.load_model(\"B_prime_4percent\")"
      ],
      "metadata": {
        "id": "bA0W4iCE0UUO"
      },
      "execution_count": 40,
      "outputs": []
    },
    {
      "cell_type": "code",
      "source": [
        "# Evaluating the B_prime model on clean and poisoned test data\n",
        "\n",
        "# Predicting labels for clean test data using the B_prime model\n",
        "cl_label_p = np.argmax(B_prime.predict(cl_x_test), axis=1)\n",
        "clean_accuracy_B_prime = np.mean(np.equal(cl_label_p, cl_y_test)) * 100\n",
        "print('Clean Classification accuracy for B_prime:', clean_accuracy_B_prime)\n",
        "\n",
        "# Predicting labels for poisoned test data using the B_prime model\n",
        "bd_label_p = np.argmax(B_prime.predict(bd_x_test), axis=1)\n",
        "asr_B_prime = np.mean(np.equal(bd_label_p, bd_y_test)) * 100\n",
        "print('Attack Success Rate for B_prime:', asr_B_prime)"
      ],
      "metadata": {
        "colab": {
          "base_uri": "https://localhost:8080/"
        },
        "id": "CR-8dadW3zSn",
        "outputId": "74f7f5c2-28cb-42a4-c8e9-71796ec3a83f"
      },
      "execution_count": 41,
      "outputs": [
        {
          "output_type": "stream",
          "name": "stdout",
          "text": [
            "401/401 [==============================] - 2s 4ms/step\n",
            "Clean Classification accuracy for B_prime: 92.29150428682775\n",
            "401/401 [==============================] - 1s 3ms/step\n",
            "Attack Success Rate for B_prime: 99.98441153546376\n"
          ]
        }
      ]
    },
    {
      "cell_type": "code",
      "source": [
        "# Creating the repaired network (repaired_net) using the G class\n",
        "\n",
        "# Providing the original BadNet (B) and modified BadNet (B_prime) as arguments to the G class\n",
        "repaired_net = G(B, B_prime)"
      ],
      "metadata": {
        "id": "x0WitOps35mb"
      },
      "execution_count": 42,
      "outputs": []
    },
    {
      "cell_type": "code",
      "source": [
        "# Evaluating the repaired network (repaired_net) on clean and poisoned test data\n",
        "\n",
        "# Predicting labels for clean test data using the repaired network (repaired_net)\n",
        "cl_label_p = np.argmax(repaired_net(cl_x_test), axis=1)\n",
        "clean_accuracy_repaired_net = np.mean(np.equal(cl_label_p, cl_y_test)) * 100\n",
        "print('Clean Classification accuracy for repaired net:', clean_accuracy_repaired_net)\n",
        "\n",
        "# Predicting labels for poisoned test data using the repaired network (repaired_net)\n",
        "bd_label_p = np.argmax(repaired_net(bd_x_test), axis=1)\n",
        "asr_repaired_net = np.mean(np.equal(bd_label_p, bd_y_test)) * 100\n",
        "print('Attack Success Rate for repaired net:', asr_repaired_net)"
      ],
      "metadata": {
        "colab": {
          "base_uri": "https://localhost:8080/"
        },
        "id": "rAYtdJFq376V",
        "outputId": "ed0bfc46-b0e2-4f56-e855-b0e671c3ed09"
      },
      "execution_count": 43,
      "outputs": [
        {
          "output_type": "stream",
          "name": "stdout",
          "text": [
            "Clean Classification accuracy for repaired net: 92.1278254091972\n",
            "Attack Success Rate for repaired net: 99.98441153546376\n"
          ]
        }
      ]
    },
    {
      "cell_type": "code",
      "source": [
        "repaired_net.save_weights('/content/rep_model_4percent/', save_format = 'tf')\n",
        "!zip -r \"rep_net_4percent.zip\" \"rep_model_4percent/\"\n",
        "files.download(\"rep_net_4percent.zip\")"
      ],
      "metadata": {
        "id": "iCOkBgboFg-c",
        "colab": {
          "base_uri": "https://localhost:8080/",
          "height": 86
        },
        "outputId": "3ef2a579-2947-4801-852b-fe2cbdd1ece6"
      },
      "execution_count": 44,
      "outputs": [
        {
          "output_type": "stream",
          "name": "stdout",
          "text": [
            "  adding: rep_model_4percent/ (stored 0%)\n",
            "  adding: rep_model_4percent/checkpoint (deflated 34%)\n",
            "  adding: rep_model_4percent/.data-00000-of-00001 (deflated 31%)\n",
            "  adding: rep_model_4percent/.index (deflated 71%)\n"
          ]
        },
        {
          "output_type": "display_data",
          "data": {
            "text/plain": [
              "<IPython.core.display.Javascript object>"
            ],
            "application/javascript": [
              "\n",
              "    async function download(id, filename, size) {\n",
              "      if (!google.colab.kernel.accessAllowed) {\n",
              "        return;\n",
              "      }\n",
              "      const div = document.createElement('div');\n",
              "      const label = document.createElement('label');\n",
              "      label.textContent = `Downloading \"${filename}\": `;\n",
              "      div.appendChild(label);\n",
              "      const progress = document.createElement('progress');\n",
              "      progress.max = size;\n",
              "      div.appendChild(progress);\n",
              "      document.body.appendChild(div);\n",
              "\n",
              "      const buffers = [];\n",
              "      let downloaded = 0;\n",
              "\n",
              "      const channel = await google.colab.kernel.comms.open(id);\n",
              "      // Send a message to notify the kernel that we're ready.\n",
              "      channel.send({})\n",
              "\n",
              "      for await (const message of channel.messages) {\n",
              "        // Send a message to notify the kernel that we're ready.\n",
              "        channel.send({})\n",
              "        if (message.buffers) {\n",
              "          for (const buffer of message.buffers) {\n",
              "            buffers.push(buffer);\n",
              "            downloaded += buffer.byteLength;\n",
              "            progress.value = downloaded;\n",
              "          }\n",
              "        }\n",
              "      }\n",
              "      const blob = new Blob(buffers, {type: 'application/binary'});\n",
              "      const a = document.createElement('a');\n",
              "      a.href = window.URL.createObjectURL(blob);\n",
              "      a.download = filename;\n",
              "      div.appendChild(a);\n",
              "      a.click();\n",
              "      div.remove();\n",
              "    }\n",
              "  "
            ]
          },
          "metadata": {}
        },
        {
          "output_type": "display_data",
          "data": {
            "text/plain": [
              "<IPython.core.display.Javascript object>"
            ],
            "application/javascript": [
              "download(\"download_b78b3f9a-4142-4a24-9d6a-1d4f8fa7959e\", \"rep_net_4percent.zip\", 6620389)"
            ]
          },
          "metadata": {}
        }
      ]
    },
    {
      "cell_type": "markdown",
      "source": [
        "**NOW, REPEAT THE ABOVE DEFINED PROCESS FOR THRESHOLD = 10%**"
      ],
      "metadata": {
        "id": "xwDNZkvkEmbZ"
      }
    },
    {
      "cell_type": "markdown",
      "source": [
        "# Part - 3: Threshold = 10%"
      ],
      "metadata": {
        "id": "SL6D110f4A9A"
      }
    },
    {
      "cell_type": "code",
      "source": [
        "# Loading and creating clones of the original BadNet model\n",
        "\n",
        "# Loading the original BadNet model and its weights\n",
        "B = keras.models.load_model(\"bd_net.h5\")\n",
        "B.load_weights(\"bd_weights.h5\")\n",
        "\n",
        "# Creating clones of the original BadNet model\n",
        "B_clone = keras.models.load_model(\"bd_net.h5\")\n",
        "B_clone.load_weights(\"bd_weights.h5\")"
      ],
      "metadata": {
        "id": "FobH1IOE3916"
      },
      "execution_count": 45,
      "outputs": []
    },
    {
      "cell_type": "code",
      "source": [
        "# Redefining the model to output right after the last pooling layer (\"pool_3\")\n",
        "intermediate_model = Model(inputs=B.inputs, outputs=B.get_layer('pool_3').output)\n",
        "\n",
        "# Getting the feature map for the last pooling layer (\"pool_3\") using the clean validation data and intermediate_model\n",
        "feature_maps_cl = tf.shape(intermediate_model(cl_x_valid))[3]\n",
        "\n",
        "# Getting the average activation value of each channel in the last pooling layer (\"pool_3\")\n",
        "averageActivationsCl = np.mean(intermediate_model(cl_x_valid), axis=(0, 1, 2))\n",
        "print(len(averageActivationsCl))\n",
        "\n",
        "# Storing the indices of average activation values (averageActivationsCl) in increasing order\n",
        "idxToPrune = np.argsort(averageActivationsCl)\n",
        "print(idxToPrune)\n",
        "\n",
        "# Getting the conv_3 layer weights and biases from the original network that will be used for pruning\n",
        "lastConvLayerWeights = B.get_layer('conv_3').get_weights()[0]\n",
        "print(tf.shape(lastConvLayerWeights))\n",
        "lastConvLayerBiases = B.get_layer('conv_3').get_weights()[1]\n",
        "print(tf.shape(lastConvLayerBiases))\n",
        "\n",
        "# Iterating through each channel index to prune\n",
        "for chIdx in idxToPrune:\n",
        "\n",
        "    # Pruning one channel at a time\n",
        "    lastConvLayerWeights[:, :, :, chIdx] = 0.\n",
        "    lastConvLayerBiases[chIdx] = 0.\n",
        "\n",
        "    # Updating weights and biases of B_clone using the set_weights() method\n",
        "    B_clone.get_layer('conv_3').set_weights([lastConvLayerWeights, lastConvLayerBiases])\n",
        "\n",
        "    # Evaluating the updated model's (B_clone) clean validation accuracy\n",
        "    cl_label_p_valid = np.argmax(B_clone(cl_x_valid), axis=1)\n",
        "    clean_accuracy_valid = np.mean(np.equal(cl_label_p_valid, cl_y_valid)) * 100\n",
        "\n",
        "    # Checking if the drop in clean_accuracy_valid is greater than or equal to the desired threshold compared to clean_accuracy\n",
        "    if clean_accuracy - clean_accuracy_valid >= 10:\n",
        "        # Saving B_clone as B_prime and breaking out of the loop\n",
        "        B_clone.save(\"B_prime_10percent\")\n",
        "        !zip -r \"10percent.zip\" \"B_prime_10percent/\"\n",
        "        files.download(\"10percent.zip\")\n",
        "        break"
      ],
      "metadata": {
        "colab": {
          "base_uri": "https://localhost:8080/",
          "height": 260
        },
        "id": "dpqiXuUx4J8J",
        "outputId": "34fd6013-2f04-494c-c93c-7441b23c4daf"
      },
      "execution_count": 46,
      "outputs": [
        {
          "output_type": "stream",
          "name": "stdout",
          "text": [
            "60\n",
            "[ 0 26 27 30 31 33 34 36 37 38 25 39 41 44 45 47 48 49 50 53 55 40 24 59\n",
            "  9  2 12 13 17 14 15 23  6 51 32 22 21 20 19 43 58  3 42  1 29 16 56 46\n",
            "  5  8 11 54 10 28 35 18  4  7 52 57]\n",
            "tf.Tensor([ 3  3 40 60], shape=(4,), dtype=int32)\n",
            "tf.Tensor([60], shape=(1,), dtype=int32)\n",
            "  adding: B_prime_10percent/ (stored 0%)\n",
            "  adding: B_prime_10percent/saved_model.pb (deflated 88%)\n",
            "  adding: B_prime_10percent/keras_metadata.pb (deflated 93%)\n",
            "  adding: B_prime_10percent/assets/ (stored 0%)\n",
            "  adding: B_prime_10percent/fingerprint.pb (stored 0%)\n",
            "  adding: B_prime_10percent/variables/ (stored 0%)\n",
            "  adding: B_prime_10percent/variables/variables.index (deflated 69%)\n",
            "  adding: B_prime_10percent/variables/variables.data-00000-of-00001 (deflated 40%)\n"
          ]
        },
        {
          "output_type": "display_data",
          "data": {
            "text/plain": [
              "<IPython.core.display.Javascript object>"
            ],
            "application/javascript": [
              "\n",
              "    async function download(id, filename, size) {\n",
              "      if (!google.colab.kernel.accessAllowed) {\n",
              "        return;\n",
              "      }\n",
              "      const div = document.createElement('div');\n",
              "      const label = document.createElement('label');\n",
              "      label.textContent = `Downloading \"${filename}\": `;\n",
              "      div.appendChild(label);\n",
              "      const progress = document.createElement('progress');\n",
              "      progress.max = size;\n",
              "      div.appendChild(progress);\n",
              "      document.body.appendChild(div);\n",
              "\n",
              "      const buffers = [];\n",
              "      let downloaded = 0;\n",
              "\n",
              "      const channel = await google.colab.kernel.comms.open(id);\n",
              "      // Send a message to notify the kernel that we're ready.\n",
              "      channel.send({})\n",
              "\n",
              "      for await (const message of channel.messages) {\n",
              "        // Send a message to notify the kernel that we're ready.\n",
              "        channel.send({})\n",
              "        if (message.buffers) {\n",
              "          for (const buffer of message.buffers) {\n",
              "            buffers.push(buffer);\n",
              "            downloaded += buffer.byteLength;\n",
              "            progress.value = downloaded;\n",
              "          }\n",
              "        }\n",
              "      }\n",
              "      const blob = new Blob(buffers, {type: 'application/binary'});\n",
              "      const a = document.createElement('a');\n",
              "      a.href = window.URL.createObjectURL(blob);\n",
              "      a.download = filename;\n",
              "      div.appendChild(a);\n",
              "      a.click();\n",
              "      div.remove();\n",
              "    }\n",
              "  "
            ]
          },
          "metadata": {}
        },
        {
          "output_type": "display_data",
          "data": {
            "text/plain": [
              "<IPython.core.display.Javascript object>"
            ],
            "application/javascript": [
              "download(\"download_6076bbc2-1df8-417a-885f-925686fe3f96\", \"10percent.zip\", 4386444)"
            ]
          },
          "metadata": {}
        }
      ]
    },
    {
      "cell_type": "code",
      "source": [
        "# Loading the B_prime model\n",
        "\n",
        "# Provide the filepath for the B_prime model\n",
        "B_prime = keras.models.load_model(\"B_prime_10percent\")"
      ],
      "metadata": {
        "id": "HymrlctV4Mfn"
      },
      "execution_count": 47,
      "outputs": []
    },
    {
      "cell_type": "code",
      "source": [
        "# Evaluating the B_prime model on clean and poisoned test data\n",
        "\n",
        "# Predicting labels for clean test data using the B_prime model\n",
        "cl_label_p = np.argmax(B_prime.predict(cl_x_test), axis=1)\n",
        "clean_accuracy_B_prime = np.mean(np.equal(cl_label_p, cl_y_test)) * 100\n",
        "print('Clean Classification accuracy for B_prime:', clean_accuracy_B_prime)\n",
        "\n",
        "# Predicting labels for poisoned test data using the B_prime model\n",
        "bd_label_p = np.argmax(B_prime.predict(bd_x_test), axis=1)\n",
        "asr_B_prime = np.mean(np.equal(bd_label_p, bd_y_test)) * 100\n",
        "print('Attack Success Rate for B_prime:', asr_B_prime)"
      ],
      "metadata": {
        "colab": {
          "base_uri": "https://localhost:8080/"
        },
        "id": "BGzzk4qP4RJ_",
        "outputId": "8b7347c8-23e1-4c8d-8d15-7541e3cad6ae"
      },
      "execution_count": 48,
      "outputs": [
        {
          "output_type": "stream",
          "name": "stdout",
          "text": [
            "401/401 [==============================] - 1s 3ms/step\n",
            "Clean Classification accuracy for B_prime: 84.54403741231489\n",
            "401/401 [==============================] - 1s 3ms/step\n",
            "Attack Success Rate for B_prime: 77.20966484801247\n"
          ]
        }
      ]
    },
    {
      "cell_type": "code",
      "source": [
        "# Creating the repaired network (repaired_net) using the G class\n",
        "\n",
        "# Providing the original BadNet (B) and modified BadNet (B_prime) as arguments to the G class\n",
        "repaired_net = G(B, B_prime)"
      ],
      "metadata": {
        "id": "LI_aWMZh4Te5"
      },
      "execution_count": 49,
      "outputs": []
    },
    {
      "cell_type": "code",
      "source": [
        "# Evaluating the repaired network (repaired_net) on clean and poisoned test data\n",
        "\n",
        "# Predicting labels for clean test data using the repaired network (repaired_net)\n",
        "cl_label_p = np.argmax(repaired_net(cl_x_test), axis=1)\n",
        "clean_accuracy_repaired_net = np.mean(np.equal(cl_label_p, cl_y_test)) * 100\n",
        "print('Clean Classification accuracy for repaired net:', clean_accuracy_repaired_net)\n",
        "\n",
        "# Predicting labels for poisoned test data using the repaired network (repaired_net)\n",
        "bd_label_p = np.argmax(repaired_net(bd_x_test), axis=1)\n",
        "asr_repaired_net = np.mean(np.equal(bd_label_p, bd_y_test)) * 100\n",
        "print('Attack Success Rate for repaired net:', asr_repaired_net)"
      ],
      "metadata": {
        "colab": {
          "base_uri": "https://localhost:8080/"
        },
        "id": "pAjyA8Ye4VyX",
        "outputId": "983c6b8e-2137-4a35-eafc-727482d06c8c"
      },
      "execution_count": 50,
      "outputs": [
        {
          "output_type": "stream",
          "name": "stdout",
          "text": [
            "Clean Classification accuracy for repaired net: 84.3335931410756\n",
            "Attack Success Rate for repaired net: 77.20966484801247\n"
          ]
        }
      ]
    },
    {
      "cell_type": "code",
      "source": [
        "repaired_net.save_weights('/content/rep_model_10percent/', save_format = 'tf')\n",
        "!zip -r \"rep_net_10percent.zip\" \"rep_model_10percent/\"\n",
        "files.download(\"rep_net_10percent.zip\")"
      ],
      "metadata": {
        "colab": {
          "base_uri": "https://localhost:8080/",
          "height": 86
        },
        "id": "geAJklY-4dNe",
        "outputId": "d373243f-3ed2-4a6d-ead2-176ff7b7695a"
      },
      "execution_count": 51,
      "outputs": [
        {
          "output_type": "stream",
          "name": "stdout",
          "text": [
            "  adding: rep_model_10percent/ (stored 0%)\n",
            "  adding: rep_model_10percent/checkpoint (deflated 34%)\n",
            "  adding: rep_model_10percent/.data-00000-of-00001 (deflated 31%)\n",
            "  adding: rep_model_10percent/.index (deflated 71%)\n"
          ]
        },
        {
          "output_type": "display_data",
          "data": {
            "text/plain": [
              "<IPython.core.display.Javascript object>"
            ],
            "application/javascript": [
              "\n",
              "    async function download(id, filename, size) {\n",
              "      if (!google.colab.kernel.accessAllowed) {\n",
              "        return;\n",
              "      }\n",
              "      const div = document.createElement('div');\n",
              "      const label = document.createElement('label');\n",
              "      label.textContent = `Downloading \"${filename}\": `;\n",
              "      div.appendChild(label);\n",
              "      const progress = document.createElement('progress');\n",
              "      progress.max = size;\n",
              "      div.appendChild(progress);\n",
              "      document.body.appendChild(div);\n",
              "\n",
              "      const buffers = [];\n",
              "      let downloaded = 0;\n",
              "\n",
              "      const channel = await google.colab.kernel.comms.open(id);\n",
              "      // Send a message to notify the kernel that we're ready.\n",
              "      channel.send({})\n",
              "\n",
              "      for await (const message of channel.messages) {\n",
              "        // Send a message to notify the kernel that we're ready.\n",
              "        channel.send({})\n",
              "        if (message.buffers) {\n",
              "          for (const buffer of message.buffers) {\n",
              "            buffers.push(buffer);\n",
              "            downloaded += buffer.byteLength;\n",
              "            progress.value = downloaded;\n",
              "          }\n",
              "        }\n",
              "      }\n",
              "      const blob = new Blob(buffers, {type: 'application/binary'});\n",
              "      const a = document.createElement('a');\n",
              "      a.href = window.URL.createObjectURL(blob);\n",
              "      a.download = filename;\n",
              "      div.appendChild(a);\n",
              "      a.click();\n",
              "      div.remove();\n",
              "    }\n",
              "  "
            ]
          },
          "metadata": {}
        },
        {
          "output_type": "display_data",
          "data": {
            "text/plain": [
              "<IPython.core.display.Javascript object>"
            ],
            "application/javascript": [
              "download(\"download_b1ec5eb8-7ffd-4b2b-8963-7a1fd073105b\", \"rep_net_10percent.zip\", 6614755)"
            ]
          },
          "metadata": {}
        }
      ]
    },
    {
      "cell_type": "markdown",
      "source": [
        "# Results\n",
        "\n",
        "## BadNet B (Sunglasses Backdoor)\n",
        "\n",
        "| Fraction of Channels Pruned (X) | Accuracy on Clean Test Data | Attack Success Rate on Backdoored Test Data |\n",
        "|----------------------------------|-----------------------------|----------------------------------------------|\n",
        "| 0% (Original BadNet B)          | 98.6%                   | 100%                                     |\n",
        "| X1 (e.g., 2%)                     | 95.9%                   | 100%                                     |\n",
        "| X2 (e.g., 4%)                     | 92.3%                   | 99.9%                                     |\n",
        "| X3 (e.g., 10%)                    | 84.5%                   | 77.2%                                     |\n",
        "\n",
        "## Repaired Networks (X={2%, 4%, 10%})\n",
        "\n",
        "| Fraction of Channels Pruned (X) | Accuracy on Clean Test Data | Attack Success Rate on Backdoored Test Data |\n",
        "|----------------------------------|-----------------------------|----------------------------------------------|\n",
        "| 0% (Original BadNet B)           | 98.6%                   | 100%                                     |\n",
        "| X1 (e.g., 2%)                     | 95.7%                   | 100%                                     |\n",
        "| X2 (e.g., 4%)                     | 92.1%                   | 99.9%                                     |\n",
        "| X3 (e.g., 10%)                    | 84.3%                   | 77.2%                                     |\n"
      ],
      "metadata": {
        "id": "ML6HDVd-T3Ay"
      }
    },
    {
      "cell_type": "code",
      "source": [],
      "metadata": {
        "id": "qT3RH4hgIqxK"
      },
      "execution_count": null,
      "outputs": []
    }
  ]
}